{
 "cells": [
  {
   "cell_type": "markdown",
   "id": "imperial-truck",
   "metadata": {},
   "source": [
    "1. run PAGA `compute_transitions()`, store `transitions_confidence`\n",
    "    1. \n",
    "2. create PAGA object from\n",
    "    * adata object\n",
    "    * cluster labels\n"
   ]
  }
 ],
 "metadata": {
  "kernelspec": {
   "display_name": "Python 3",
   "language": "python",
   "name": "python3"
  },
  "language_info": {
   "codemirror_mode": {
    "name": "ipython",
    "version": 3
   },
   "file_extension": ".py",
   "mimetype": "text/x-python",
   "name": "python",
   "nbconvert_exporter": "python",
   "pygments_lexer": "ipython3",
   "version": "3.8.6"
  }
 },
 "nbformat": 4,
 "nbformat_minor": 5
}
