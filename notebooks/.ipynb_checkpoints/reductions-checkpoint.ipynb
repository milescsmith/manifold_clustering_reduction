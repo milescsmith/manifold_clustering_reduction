{
 "cells": [
  {
   "cell_type": "code",
   "execution_count": 2,
   "metadata": {},
   "outputs": [],
   "source": [
    "import pandas as pd\n",
    "import numpy as np\n",
    "from umap import UMAP\n",
    "from sklearn.manifold import TSNE\n",
    "from pathlib import Path"
   ]
  },
  {
   "cell_type": "code",
   "execution_count": 3,
   "metadata": {},
   "outputs": [],
   "source": [
    "results = pd.read_csv(Path(\"data/object_results.csv\"))"
   ]
  },
  {
   "cell_type": "code",
   "execution_count": 4,
   "metadata": {},
   "outputs": [
    {
     "data": {
      "text/html": "<div>\n<style scoped>\n    .dataframe tbody tr th:only-of-type {\n        vertical-align: middle;\n    }\n\n    .dataframe tbody tr th {\n        vertical-align: top;\n    }\n\n    .dataframe thead th {\n        text-align: right;\n    }\n</style>\n<table border=\"1\" class=\"dataframe\">\n  <thead>\n    <tr style=\"text-align: right;\">\n      <th></th>\n      <th>Object Id</th>\n      <th>XMin</th>\n      <th>XMax</th>\n      <th>YMin</th>\n      <th>YMax</th>\n      <th>171Yb_Renin Cell Intensity</th>\n      <th>175Lu_Aqu1 Cell Intensity</th>\n      <th>176Yb_H3 Cell Intensity</th>\n      <th>191Ir_DNA1 Cell Intensity</th>\n      <th>193Ir_DNA2 Cell Intensity</th>\n      <th>...</th>\n      <th>166Er_Col-IV Cell Intensity</th>\n      <th>169Tm_WT1 Cell Intensity</th>\n      <th>170Er_CD3 Cell Intensity</th>\n      <th>89Y_CD45 Cell Intensity</th>\n      <th>Cell Area (µm²)</th>\n      <th>Cytoplasm Area (µm²)</th>\n      <th>Membrane Area (µm²)</th>\n      <th>Nucleus Area (µm²)</th>\n      <th>Nucleus Perimeter (µm)</th>\n      <th>Nucleus Roundness</th>\n    </tr>\n  </thead>\n  <tbody>\n    <tr>\n      <th>0</th>\n      <td>0</td>\n      <td>1404</td>\n      <td>1407</td>\n      <td>853</td>\n      <td>856</td>\n      <td>16.600000</td>\n      <td>0.00000</td>\n      <td>0.0000</td>\n      <td>0.000000</td>\n      <td>0.000000</td>\n      <td>...</td>\n      <td>36747.300000</td>\n      <td>512.000000</td>\n      <td>0.000000</td>\n      <td>0.0</td>\n      <td>10</td>\n      <td>0</td>\n      <td>10</td>\n      <td>0</td>\n      <td>0</td>\n      <td>0.000000</td>\n    </tr>\n    <tr>\n      <th>1</th>\n      <td>1</td>\n      <td>1058</td>\n      <td>1062</td>\n      <td>913</td>\n      <td>916</td>\n      <td>0.000000</td>\n      <td>18021.87500</td>\n      <td>0.0000</td>\n      <td>0.000000</td>\n      <td>0.000000</td>\n      <td>...</td>\n      <td>0.000000</td>\n      <td>0.000000</td>\n      <td>0.000000</td>\n      <td>0.0</td>\n      <td>8</td>\n      <td>0</td>\n      <td>8</td>\n      <td>0</td>\n      <td>0</td>\n      <td>0.000000</td>\n    </tr>\n    <tr>\n      <th>2</th>\n      <td>2</td>\n      <td>1058</td>\n      <td>1065</td>\n      <td>915</td>\n      <td>925</td>\n      <td>5.627119</td>\n      <td>27317.44100</td>\n      <td>304.6271</td>\n      <td>0.000000</td>\n      <td>0.000000</td>\n      <td>...</td>\n      <td>0.000000</td>\n      <td>0.000000</td>\n      <td>0.000000</td>\n      <td>0.0</td>\n      <td>59</td>\n      <td>26</td>\n      <td>33</td>\n      <td>0</td>\n      <td>0</td>\n      <td>0.000000</td>\n    </tr>\n    <tr>\n      <th>3</th>\n      <td>3</td>\n      <td>1159</td>\n      <td>1161</td>\n      <td>1333</td>\n      <td>1334</td>\n      <td>0.000000</td>\n      <td>0.00000</td>\n      <td>1123.3334</td>\n      <td>0.000000</td>\n      <td>0.000000</td>\n      <td>...</td>\n      <td>0.000000</td>\n      <td>2730.666700</td>\n      <td>0.000000</td>\n      <td>0.0</td>\n      <td>6</td>\n      <td>0</td>\n      <td>6</td>\n      <td>0</td>\n      <td>0</td>\n      <td>0.000000</td>\n    </tr>\n    <tr>\n      <th>4</th>\n      <td>4</td>\n      <td>1480</td>\n      <td>1503</td>\n      <td>790</td>\n      <td>816</td>\n      <td>1.870787</td>\n      <td>1060.32300</td>\n      <td>2361.5030</td>\n      <td>811.800540</td>\n      <td>1056.441000</td>\n      <td>...</td>\n      <td>1477.500000</td>\n      <td>1101.657300</td>\n      <td>10.233146</td>\n      <td>0.0</td>\n      <td>356</td>\n      <td>205</td>\n      <td>0</td>\n      <td>151</td>\n      <td>57</td>\n      <td>0.599115</td>\n    </tr>\n    <tr>\n      <th>...</th>\n      <td>...</td>\n      <td>...</td>\n      <td>...</td>\n      <td>...</td>\n      <td>...</td>\n      <td>...</td>\n      <td>...</td>\n      <td>...</td>\n      <td>...</td>\n      <td>...</td>\n      <td>...</td>\n      <td>...</td>\n      <td>...</td>\n      <td>...</td>\n      <td>...</td>\n      <td>...</td>\n      <td>...</td>\n      <td>...</td>\n      <td>...</td>\n      <td>...</td>\n      <td>...</td>\n    </tr>\n    <tr>\n      <th>4371</th>\n      <td>4371</td>\n      <td>425</td>\n      <td>451</td>\n      <td>783</td>\n      <td>810</td>\n      <td>2.902098</td>\n      <td>13988.01400</td>\n      <td>2498.9720</td>\n      <td>28.318182</td>\n      <td>46.484264</td>\n      <td>...</td>\n      <td>12.797203</td>\n      <td>334.769230</td>\n      <td>0.000000</td>\n      <td>0.0</td>\n      <td>572</td>\n      <td>511</td>\n      <td>0</td>\n      <td>61</td>\n      <td>30</td>\n      <td>0.859234</td>\n    </tr>\n    <tr>\n      <th>4372</th>\n      <td>4372</td>\n      <td>767</td>\n      <td>795</td>\n      <td>787</td>\n      <td>805</td>\n      <td>2.903790</td>\n      <td>261.80760</td>\n      <td>2408.4170</td>\n      <td>1602.507300</td>\n      <td>1946.548100</td>\n      <td>...</td>\n      <td>474.020420</td>\n      <td>77.620995</td>\n      <td>0.000000</td>\n      <td>0.0</td>\n      <td>343</td>\n      <td>265</td>\n      <td>0</td>\n      <td>78</td>\n      <td>36</td>\n      <td>0.811386</td>\n    </tr>\n    <tr>\n      <th>4373</th>\n      <td>4373</td>\n      <td>117</td>\n      <td>135</td>\n      <td>785</td>\n      <td>802</td>\n      <td>6.973282</td>\n      <td>15722.19800</td>\n      <td>2521.2786</td>\n      <td>2112.049600</td>\n      <td>2351.213600</td>\n      <td>...</td>\n      <td>10787.790000</td>\n      <td>3267.420000</td>\n      <td>264.038180</td>\n      <td>0.0</td>\n      <td>262</td>\n      <td>217</td>\n      <td>0</td>\n      <td>45</td>\n      <td>26</td>\n      <td>0.833814</td>\n    </tr>\n    <tr>\n      <th>4374</th>\n      <td>4374</td>\n      <td>508</td>\n      <td>532</td>\n      <td>785</td>\n      <td>813</td>\n      <td>1.400844</td>\n      <td>63.42405</td>\n      <td>948.7743</td>\n      <td>1184.464100</td>\n      <td>1449.856600</td>\n      <td>...</td>\n      <td>251.590710</td>\n      <td>259.240500</td>\n      <td>0.000000</td>\n      <td>0.0</td>\n      <td>474</td>\n      <td>373</td>\n      <td>0</td>\n      <td>101</td>\n      <td>38</td>\n      <td>0.841830</td>\n    </tr>\n    <tr>\n      <th>4375</th>\n      <td>4375</td>\n      <td>669</td>\n      <td>696</td>\n      <td>786</td>\n      <td>812</td>\n      <td>1.778571</td>\n      <td>218.98572</td>\n      <td>2573.1768</td>\n      <td>1610.069700</td>\n      <td>1874.737500</td>\n      <td>...</td>\n      <td>15.607142</td>\n      <td>427.885700</td>\n      <td>0.000000</td>\n      <td>0.0</td>\n      <td>560</td>\n      <td>517</td>\n      <td>0</td>\n      <td>43</td>\n      <td>25</td>\n      <td>0.838024</td>\n    </tr>\n  </tbody>\n</table>\n<p>4376 rows × 36 columns</p>\n</div>",
      "text/plain": "      Object Id  XMin  XMax  YMin  YMax  171Yb_Renin Cell Intensity  \\\n0             0  1404  1407   853   856                   16.600000   \n1             1  1058  1062   913   916                    0.000000   \n2             2  1058  1065   915   925                    5.627119   \n3             3  1159  1161  1333  1334                    0.000000   \n4             4  1480  1503   790   816                    1.870787   \n...         ...   ...   ...   ...   ...                         ...   \n4371       4371   425   451   783   810                    2.902098   \n4372       4372   767   795   787   805                    2.903790   \n4373       4373   117   135   785   802                    6.973282   \n4374       4374   508   532   785   813                    1.400844   \n4375       4375   669   696   786   812                    1.778571   \n\n      175Lu_Aqu1 Cell Intensity  176Yb_H3 Cell Intensity  \\\n0                       0.00000                   0.0000   \n1                   18021.87500                   0.0000   \n2                   27317.44100                 304.6271   \n3                       0.00000                1123.3334   \n4                    1060.32300                2361.5030   \n...                         ...                      ...   \n4371                13988.01400                2498.9720   \n4372                  261.80760                2408.4170   \n4373                15722.19800                2521.2786   \n4374                   63.42405                 948.7743   \n4375                  218.98572                2573.1768   \n\n      191Ir_DNA1 Cell Intensity  193Ir_DNA2 Cell Intensity  ...  \\\n0                      0.000000                   0.000000  ...   \n1                      0.000000                   0.000000  ...   \n2                      0.000000                   0.000000  ...   \n3                      0.000000                   0.000000  ...   \n4                    811.800540                1056.441000  ...   \n...                         ...                        ...  ...   \n4371                  28.318182                  46.484264  ...   \n4372                1602.507300                1946.548100  ...   \n4373                2112.049600                2351.213600  ...   \n4374                1184.464100                1449.856600  ...   \n4375                1610.069700                1874.737500  ...   \n\n      166Er_Col-IV Cell Intensity  169Tm_WT1 Cell Intensity  \\\n0                    36747.300000                512.000000   \n1                        0.000000                  0.000000   \n2                        0.000000                  0.000000   \n3                        0.000000               2730.666700   \n4                     1477.500000               1101.657300   \n...                           ...                       ...   \n4371                    12.797203                334.769230   \n4372                   474.020420                 77.620995   \n4373                 10787.790000               3267.420000   \n4374                   251.590710                259.240500   \n4375                    15.607142                427.885700   \n\n      170Er_CD3 Cell Intensity  89Y_CD45 Cell Intensity  Cell Area (µm²)  \\\n0                     0.000000                      0.0               10   \n1                     0.000000                      0.0                8   \n2                     0.000000                      0.0               59   \n3                     0.000000                      0.0                6   \n4                    10.233146                      0.0              356   \n...                        ...                      ...              ...   \n4371                  0.000000                      0.0              572   \n4372                  0.000000                      0.0              343   \n4373                264.038180                      0.0              262   \n4374                  0.000000                      0.0              474   \n4375                  0.000000                      0.0              560   \n\n      Cytoplasm Area (µm²)  Membrane Area (µm²)  Nucleus Area (µm²)  \\\n0                        0                   10                   0   \n1                        0                    8                   0   \n2                       26                   33                   0   \n3                        0                    6                   0   \n4                      205                    0                 151   \n...                    ...                  ...                 ...   \n4371                   511                    0                  61   \n4372                   265                    0                  78   \n4373                   217                    0                  45   \n4374                   373                    0                 101   \n4375                   517                    0                  43   \n\n      Nucleus Perimeter (µm)  Nucleus Roundness  \n0                          0           0.000000  \n1                          0           0.000000  \n2                          0           0.000000  \n3                          0           0.000000  \n4                         57           0.599115  \n...                      ...                ...  \n4371                      30           0.859234  \n4372                      36           0.811386  \n4373                      26           0.833814  \n4374                      38           0.841830  \n4375                      25           0.838024  \n\n[4376 rows x 36 columns]"
     },
     "execution_count": 4,
     "metadata": {},
     "output_type": "execute_result"
    }
   ],
   "source": [
    "results"
   ]
  },
  {
   "cell_type": "code",
   "execution_count": 5,
   "metadata": {},
   "outputs": [],
   "source": [
    "ignore_columns = \"Object Id,XMin,XMax,YMin,YMax,Cell Area (µm²),Cytoplasm Area (µm²),Membrane Area (µm²),Nucleus Area (µm²),Nucleus Perimeter (µm),Nucleus Roundness\""
   ]
  },
  {
   "cell_type": "code",
   "execution_count": null,
   "metadata": {},
   "outputs": [],
   "source": [
    "results.loc[:,~results.columns.isin(ignore_columns.split(\",\"))]"
   ]
  },
  {
   "cell_type": "code",
   "execution_count": 6,
   "metadata": {},
   "outputs": [],
   "source": [
    "embedding = UMAP().fit_transform(results.loc[:, ~results.columns.isin(ignore_columns.split(\",\"))])"
   ]
  },
  {
   "cell_type": "code",
   "execution_count": 7,
   "metadata": {},
   "outputs": [
    {
     "data": {
      "text/plain": "array([[ 0.9887819 , -1.6457998 ],\n       [14.785393  ,  4.1165514 ],\n       [14.738329  ,  4.245052  ],\n       ...,\n       [10.261692  ,  3.5573642 ],\n       [ 1.4452888 ,  4.7399077 ],\n       [ 0.86579174,  4.6660256 ]], dtype=float32)"
     },
     "execution_count": 7,
     "metadata": {},
     "output_type": "execute_result"
    }
   ],
   "source": [
    "embedding"
   ]
  },
  {
   "cell_type": "code",
   "execution_count": 8,
   "metadata": {},
   "outputs": [],
   "source": [
    "embedding_df = pd.DataFrame(embedding).rename(columns={0: \"umap_1\", 1: \"umap_2\"})"
   ]
  },
  {
   "cell_type": "code",
   "execution_count": 9,
   "metadata": {},
   "outputs": [],
   "source": [
    "results_with_umap = pd.concat([embedding_df.reset_index(drop=True), results], axis=1)"
   ]
  },
  {
   "cell_type": "code",
   "execution_count": 10,
   "metadata": {},
   "outputs": [],
   "source": [
    "import sklearn.manifold"
   ]
  },
  {
   "cell_type": "code",
   "execution_count": 11,
   "metadata": {},
   "outputs": [],
   "source": [
    "tsne_embeddings = sklearn.manifold.TSNE().fit_transform(results.iloc[:,5:30])"
   ]
  },
  {
   "cell_type": "code",
   "execution_count": 12,
   "metadata": {},
   "outputs": [
    {
     "data": {
      "text/plain": "array([[ 27.398108,  60.431458],\n       [ 25.828173, -83.55188 ],\n       [ 27.342714, -82.44355 ],\n       ...,\n       [ 17.703995, -30.271233],\n       [-15.49983 ,  18.761396],\n       [-18.802013,  22.147552]], dtype=float32)"
     },
     "execution_count": 12,
     "metadata": {},
     "output_type": "execute_result"
    }
   ],
   "source": [
    "tsne_embeddings"
   ]
  }
 ],
 "metadata": {
  "kernelspec": {
   "display_name": "Python 3",
   "language": "python",
   "name": "python3"
  },
  "language_info": {
   "codemirror_mode": {
    "name": "ipython",
    "version": 3
   },
   "file_extension": ".py",
   "mimetype": "text/x-python",
   "name": "python",
   "nbconvert_exporter": "python",
   "pygments_lexer": "ipython3",
   "version": "3.8.6-final"
  }
 },
 "nbformat": 4,
 "nbformat_minor": 5
}