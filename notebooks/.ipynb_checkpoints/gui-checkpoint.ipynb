{
 "cells": [
  {
   "cell_type": "code",
   "execution_count": 1,
   "metadata": {},
   "outputs": [],
   "source": [
    "from PySide2.QtWidgets import QComboBox\n",
    "from edifice import CustomWidget\n",
    "import edifice as ed"
   ]
  },
  {
   "cell_type": "code",
   "execution_count": 2,
   "metadata": {},
   "outputs": [],
   "source": [
    "class ComboBox(CustomWidget):\n",
    "\n",
    "    @ed.register_props\n",
    "    def __init__(self, items = None):\n",
    "        super().__init__()\n",
    "\n",
    "        self.create_widget()\n",
    "#         if items:\n",
    "#             for _ in items:\n",
    "#                 self.addItem(_)\n",
    "        \n",
    "    def create_widget(self):\n",
    "        # This function should return the new widget\n",
    "        # (with parent set to None; Edifice will handle parenting)\n",
    "        return QComboBox()\n",
    "\n",
    "    def paint(self, widget, newprops):\n",
    "        # This function should update the widget\n",
    "        for prop in newprops:\n",
    "            if prop == \"text\":\n",
    "                widget.setText(newprops[prop])\n",
    "            elif prop == \"value\":\n",
    "                widget.setValue(newprops[prop])\n",
    "    \n",
    "#     def addItem(self, text):\n",
    "#         return super().addItem(text)"
   ]
  },
  {
   "cell_type": "code",
   "execution_count": null,
   "metadata": {},
   "outputs": [],
   "source": [
    "alfa = ComboBox([\"Reduce\", \"Cluster\"])"
   ]
  },
  {
   "cell_type": "code",
   "execution_count": 1,
   "metadata": {},
   "outputs": [
    {
     "ename": "NameError",
     "evalue": "name 'alfa' is not defined",
     "output_type": "error",
     "traceback": [
      "\u001b[0;31m---------------------------------------------------------------------------\u001b[0m",
      "\u001b[0;31mNameError\u001b[0m                                 Traceback (most recent call last)",
      "\u001b[0;32m<ipython-input-1-5a46c9240e11>\u001b[0m in \u001b[0;36m<module>\u001b[0;34m\u001b[0m\n\u001b[0;32m----> 1\u001b[0;31m \u001b[0mhelp\u001b[0m\u001b[0;34m(\u001b[0m\u001b[0malfa\u001b[0m\u001b[0;34m)\u001b[0m\u001b[0;34m\u001b[0m\u001b[0;34m\u001b[0m\u001b[0m\n\u001b[0m",
      "\u001b[0;31mNameError\u001b[0m: name 'alfa' is not defined"
     ]
    }
   ],
   "source": [
    "help(alfa)"
   ]
  },
  {
   "cell_type": "code",
   "execution_count": null,
   "metadata": {},
   "outputs": [],
   "source": []
  }
 ],
 "metadata": {
  "kernelspec": {
   "display_name": "Python [conda env:cytometry]",
   "language": "python",
   "name": "conda-env-cytometry-py"
  },
  "language_info": {
   "codemirror_mode": {
    "name": "ipython",
    "version": 3
   },
   "file_extension": ".py",
   "mimetype": "text/x-python",
   "name": "python",
   "nbconvert_exporter": "python",
   "pygments_lexer": "ipython3",
   "version": "3.8.6"
  }
 },
 "nbformat": 4,
 "nbformat_minor": 4
}
